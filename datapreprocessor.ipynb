{
 "cells": [
  {
   "cell_type": "code",
   "execution_count": 1,
   "metadata": {},
   "outputs": [
    {
     "name": "stdout",
     "output_type": "stream",
     "text": [
      "Printing data dir\n",
      "['.DS_Store', 'test', 'train', 'val']\n",
      "Printing train dir\n",
      ".DS_Store\n",
      "cats\n",
      "dogs\n",
      "Printing train dog dir\n",
      ".DS_Store\n",
      "dog.0.jpg\n",
      "dog.1.jpg\n",
      "dog.11273.jpg\n",
      "dog.11274.jpg\n",
      "Printing train cat dir\n",
      ".DS_Store\n",
      "cat.0.jpg\n",
      "cat.1.jpg\n",
      "cat.10520.jpg\n",
      "cat.10521.jpg\n",
      "Printing val dir\n",
      ".DS_Store\n",
      "cats\n",
      "dogs\n",
      "Printing val dog dir\n",
      ".DS_Store\n",
      "dog.5976.jpg\n",
      "dog.5977.jpg\n",
      "dog.5978.jpg\n",
      "dog.5979.jpg\n",
      "Printing val cat dir\n",
      ".DS_Store\n",
      "cat.5953.jpg\n",
      "cat.5954.jpg\n",
      "cat.5955.jpg\n",
      "cat.5956.jpg\n"
     ]
    }
   ],
   "source": [
    "import os\n",
    "train_dir = \"./data/train\"\n",
    "train_dogs_dir = f'{train_dir}/dogs'\n",
    "train_cats_dir = f'{train_dir}/cats'\n",
    "val_dir = \"./data/val\"\n",
    "val_dogs_dir = f'{val_dir}/dogs'\n",
    "val_cats_dir = f'{val_dir}/cats'\n",
    "print(\"Printing data dir\")\n",
    "print(os.listdir(\"data\"))\n",
    "print(\"Printing train dir\")\n",
    "!ls {train_dir} | head -n 5\n",
    "print(\"Printing train dog dir\")\n",
    "!ls {train_dogs_dir} | head -n 5\n",
    "print(\"Printing train cat dir\")\n",
    "!ls {train_cats_dir} | head -n 5\n",
    "print(\"Printing val dir\")\n",
    "!ls {val_dir} | head -n 5\n",
    "print(\"Printing val dog dir\")\n",
    "!ls {val_dogs_dir} | head -n 5\n",
    "print(\"Printing val cat dir\")\n",
    "!ls {val_cats_dir} | head -n 5"
   ]
  },
  {
   "cell_type": "code",
   "execution_count": 3,
   "metadata": {},
   "outputs": [],
   "source": [
    "import shutil\n",
    "import re\n",
    "\n",
    "files = os.listdir(train_dir)\n",
    "\n",
    "# Move all train cat images to cats folder, dog images to dogs folder\n",
    "for f in files:\n",
    "    catSearchObj = re.search(\"cat\", f)\n",
    "    dogSearchObj = re.search(\"dog\", f)\n",
    "    if catSearchObj:\n",
    "        shutil.move(f'{train_dir}/{f}', train_cats_dir)\n",
    "    elif dogSearchObj:\n",
    "        shutil.move(f'{train_dir}/{f}', train_dogs_dir)\n"
   ]
  },
  {
   "cell_type": "code",
   "execution_count": 4,
   "metadata": {},
   "outputs": [
    {
     "name": "stdout",
     "output_type": "stream",
     "text": [
      "Printing train dir\n",
      "cats\n",
      "dogs\n",
      "Printing train dog dir\n",
      "dog.0.jpg\n",
      "dog.1.jpg\n",
      "dog.10.jpg\n",
      "dog.100.jpg\n",
      "dog.1000.jpg\n",
      "Printing train cat dir\n",
      "cat.0.jpg\n",
      "cat.1.jpg\n",
      "cat.10.jpg\n",
      "cat.100.jpg\n",
      "cat.1000.jpg\n"
     ]
    }
   ],
   "source": [
    "print(\"Printing train dir\") # shows cats, dogs subfolders only\n",
    "!ls {train_dir} | head -n 5\n",
    "print(\"Printing train dog dir\") # there is now dog images in dogs folder\n",
    "!ls {train_dogs_dir} | head -n 5\n",
    "print(\"Printing train cat dir\") # there is now cat images in cats folder\n",
    "!ls {train_cats_dir} | head -n 5"
   ]
  },
  {
   "cell_type": "code",
   "execution_count": 5,
   "metadata": {},
   "outputs": [],
   "source": [
    "files = os.listdir(train_dogs_dir)\n",
    "\n",
    "for f in files:\n",
    "    validationDogsSearchObj = re.search(\"5\\d\\d\\d\", f)\n",
    "    if validationDogsSearchObj:\n",
    "        shutil.move(f'{train_dogs_dir}/{f}', val_dogs_dir)"
   ]
  },
  {
   "cell_type": "code",
   "execution_count": 6,
   "metadata": {},
   "outputs": [
    {
     "name": "stdout",
     "output_type": "stream",
     "text": [
      "Printing val dog dir\n",
      "dog.5000.jpg\r\n",
      "dog.5001.jpg\r\n",
      "dog.5002.jpg\r\n",
      "dog.5003.jpg\r\n",
      "dog.5004.jpg\r\n"
     ]
    }
   ],
   "source": [
    "print(\"Printing val dog dir\")\n",
    "!ls {val_dogs_dir} | head -n 5"
   ]
  },
  {
   "cell_type": "code",
   "execution_count": 8,
   "metadata": {},
   "outputs": [],
   "source": [
    "files = os.listdir(train_cats_dir)\n",
    "\n",
    "for f in files:\n",
    "    validationCatsSearchObj = re.search(\"5\\d\\d\\d\", f)\n",
    "    if validationCatsSearchObj:\n",
    "        shutil.move(f'{train_cats_dir}/{f}', val_cats_dir)"
   ]
  },
  {
   "cell_type": "code",
   "execution_count": 9,
   "metadata": {},
   "outputs": [
    {
     "name": "stdout",
     "output_type": "stream",
     "text": [
      "Printing val cat dir\n",
      "cat.5000.jpg\r\n",
      "cat.5001.jpg\r\n",
      "cat.5002.jpg\r\n",
      "cat.5003.jpg\r\n",
      "cat.5004.jpg\r\n"
     ]
    }
   ],
   "source": [
    "print(\"Printing val cat dir\")\n",
    "!ls {val_cats_dir} | head -n 5"
   ]
  },
  {
   "cell_type": "code",
   "execution_count": null,
   "metadata": {},
   "outputs": [],
   "source": []
  }
 ],
 "metadata": {
  "kernelspec": {
   "display_name": "Python 3",
   "language": "python",
   "name": "python3"
  },
  "language_info": {
   "codemirror_mode": {
    "name": "ipython",
    "version": 3
   },
   "file_extension": ".py",
   "mimetype": "text/x-python",
   "name": "python",
   "nbconvert_exporter": "python",
   "pygments_lexer": "ipython3",
   "version": "3.7.0"
  }
 },
 "nbformat": 4,
 "nbformat_minor": 2
}
